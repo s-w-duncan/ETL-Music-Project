{
 "cells": [
  {
   "cell_type": "markdown",
   "metadata": {},
   "source": [
    "## ETL Project "
   ]
  },
  {
   "cell_type": "markdown",
   "metadata": {},
   "source": [
    "### Billboard Top Artists"
   ]
  },
  {
   "cell_type": "markdown",
   "metadata": {},
   "source": [
    "### Extraction"
   ]
  },
  {
   "cell_type": "markdown",
   "metadata": {},
   "source": [
    "#### For this project we used the following databases in order to pull the relevant information.\n",
    "\n",
    "#### Kaggle: https://www.kaggle.com/danield2255/data-on-songs-from-billboard-19992019? \n",
    "    #### CSV format of data.\n",
    "#### iTunes: https://affiliate.itunes.apple.com/resources/documentation/itunes-store-web-service-search-api/\n",
    "    #### JSON format of data.\n",
    "    \n",
    "#### From Kaggle, we downloaded the csv file from the website, and then used python in order to extract the URL for each artist."
   ]
  },
  {
   "cell_type": "markdown",
   "metadata": {},
   "source": [
    "### Transform"
   ]
  },
  {
   "cell_type": "markdown",
   "metadata": {},
   "source": [
    "#### Deleted columns from CSV through Python coding as well as dropped rows that contained Nan data. deep as balls. From there we, formatted the \"Followers\" column to a float type and changed the data appearance. Also, we decided to isolate one word artist names for this project in order simplify the API call due to time constraints. \n",
    "\n",
    "#### We further utlized a seperate API call format and appended each response to the final table in order to get around the documentation need to make calls from the iTunes database. Truncated number of artists to top 21 in order to stay under the max call limit for the API. Finally, once each of the documents was finalized, we combined the two tables together into order to push one data set to Mongo.\n"
   ]
  },
  {
   "cell_type": "markdown",
   "metadata": {},
   "source": [
    "### Load"
   ]
  },
  {
   "cell_type": "markdown",
   "metadata": {},
   "source": [
    "#### In order to load our dataset into MongoDB, we first created a database name and collection from the Compass interface in order to directly push the data from Jupyter Notebook into the application."
   ]
  },
  {
   "cell_type": "markdown",
   "metadata": {},
   "source": [
    "### Final Thoughts"
   ]
  },
  {
   "cell_type": "markdown",
   "metadata": {},
   "source": [
    "#### With an affintiy to music we decided that a list of top billboard artists and a link to their profiles on iTunes in order to quickly access their music would be beneficial to audiophiles."
   ]
  },
  {
   "cell_type": "code",
   "execution_count": 1,
   "metadata": {},
   "outputs": [],
   "source": [
    "# Declare Dependencies \n",
    "from splinter import Browser\n",
    "import pandas as pd\n",
    "import requests\n",
    "import warnings\n",
    "import pprint as pp\n",
    "import json\n",
    "from pymongo import MongoClient"
   ]
  },
  {
   "cell_type": "code",
   "execution_count": 2,
   "metadata": {},
   "outputs": [
    {
     "data": {
      "text/html": [
       "<div>\n",
       "<style scoped>\n",
       "    .dataframe tbody tr th:only-of-type {\n",
       "        vertical-align: middle;\n",
       "    }\n",
       "\n",
       "    .dataframe tbody tr th {\n",
       "        vertical-align: top;\n",
       "    }\n",
       "\n",
       "    .dataframe thead th {\n",
       "        text-align: right;\n",
       "    }\n",
       "</style>\n",
       "<table border=\"1\" class=\"dataframe\">\n",
       "  <thead>\n",
       "    <tr style=\"text-align: right;\">\n",
       "      <th></th>\n",
       "      <th>Artist</th>\n",
       "      <th>Followers</th>\n",
       "      <th>NumAlbums</th>\n",
       "      <th>YearFirstAlbum</th>\n",
       "      <th>Gender</th>\n",
       "    </tr>\n",
       "  </thead>\n",
       "  <tbody>\n",
       "    <tr>\n",
       "      <th>0</th>\n",
       "      <td>Ed Sheeran</td>\n",
       "      <td>52,698,756</td>\n",
       "      <td>8</td>\n",
       "      <td>2011</td>\n",
       "      <td>M</td>\n",
       "    </tr>\n",
       "    <tr>\n",
       "      <th>1</th>\n",
       "      <td>Drake</td>\n",
       "      <td>41,420,478</td>\n",
       "      <td>11</td>\n",
       "      <td>2010</td>\n",
       "      <td>M</td>\n",
       "    </tr>\n",
       "    <tr>\n",
       "      <th>2</th>\n",
       "      <td>Rihanna</td>\n",
       "      <td>34,436,700</td>\n",
       "      <td>16</td>\n",
       "      <td>2005</td>\n",
       "      <td>F</td>\n",
       "    </tr>\n",
       "    <tr>\n",
       "      <th>3</th>\n",
       "      <td>Justin Bieber</td>\n",
       "      <td>30,711,450</td>\n",
       "      <td>10</td>\n",
       "      <td>2009</td>\n",
       "      <td>M</td>\n",
       "    </tr>\n",
       "    <tr>\n",
       "      <th>4</th>\n",
       "      <td>Eminem</td>\n",
       "      <td>30,220,119</td>\n",
       "      <td>12</td>\n",
       "      <td>1999</td>\n",
       "      <td>M</td>\n",
       "    </tr>\n",
       "    <tr>\n",
       "      <th>...</th>\n",
       "      <td>...</td>\n",
       "      <td>...</td>\n",
       "      <td>...</td>\n",
       "      <td>...</td>\n",
       "      <td>...</td>\n",
       "    </tr>\n",
       "    <tr>\n",
       "      <th>946</th>\n",
       "      <td>Toya</td>\n",
       "      <td>2,425</td>\n",
       "      <td>9</td>\n",
       "      <td>2001</td>\n",
       "      <td>F</td>\n",
       "    </tr>\n",
       "    <tr>\n",
       "      <th>947</th>\n",
       "      <td>Jeannie Ortega</td>\n",
       "      <td>1,442</td>\n",
       "      <td>3</td>\n",
       "      <td>2006</td>\n",
       "      <td>F</td>\n",
       "    </tr>\n",
       "    <tr>\n",
       "      <th>948</th>\n",
       "      <td>Eric Heatherly</td>\n",
       "      <td>1,093</td>\n",
       "      <td>3</td>\n",
       "      <td>2000</td>\n",
       "      <td>M</td>\n",
       "    </tr>\n",
       "    <tr>\n",
       "      <th>949</th>\n",
       "      <td>Terry Dexter</td>\n",
       "      <td>790</td>\n",
       "      <td>3</td>\n",
       "      <td>1999</td>\n",
       "      <td>F</td>\n",
       "    </tr>\n",
       "    <tr>\n",
       "      <th>950</th>\n",
       "      <td>Down A.K.A. Kilo</td>\n",
       "      <td>775</td>\n",
       "      <td>5</td>\n",
       "      <td>1998</td>\n",
       "      <td>M</td>\n",
       "    </tr>\n",
       "  </tbody>\n",
       "</table>\n",
       "<p>951 rows × 5 columns</p>\n",
       "</div>"
      ],
      "text/plain": [
       "               Artist   Followers  NumAlbums  YearFirstAlbum Gender\n",
       "0          Ed Sheeran  52,698,756          8            2011      M\n",
       "1               Drake  41,420,478         11            2010      M\n",
       "2             Rihanna  34,436,700         16            2005      F\n",
       "3       Justin Bieber  30,711,450         10            2009      M\n",
       "4              Eminem  30,220,119         12            1999      M\n",
       "..                ...         ...        ...             ...    ...\n",
       "946              Toya       2,425          9            2001      F\n",
       "947    Jeannie Ortega       1,442          3            2006      F\n",
       "948    Eric Heatherly       1,093          3            2000      M\n",
       "949      Terry Dexter         790          3            1999      F\n",
       "950  Down A.K.A. Kilo         775          5            1998      M\n",
       "\n",
       "[951 rows x 5 columns]"
      ]
     },
     "execution_count": 2,
     "metadata": {},
     "output_type": "execute_result"
    }
   ],
   "source": [
    "# Load CSV\n",
    "billboard = \"Resources/artistDf.csv\"\n",
    "billboard_df = pd.read_csv(billboard)\n",
    "\n",
    "del billboard_df['X']\n",
    "del billboard_df['Genres']\n",
    "del billboard_df['Group.Solo']\n",
    "billboard_df = billboard_df.dropna(how='any')\n",
    "\n",
    "billboard_df['Followers'].astype(int)\n",
    "billboard_df.sort_values(\"Followers\", inplace=True, ascending=False)\n",
    "billboard_df = billboard_df.reset_index(drop=True)\n",
    "\n",
    "billboard_df[\"Followers\"] = billboard_df[\"Followers\"].astype(float).map(\"{:,.0f}\".format)\n",
    "billboard_df"
   ]
  },
  {
   "cell_type": "code",
   "execution_count": 3,
   "metadata": {},
   "outputs": [],
   "source": [
    "billboard_df.to_csv(r'Resources/clean_artist.csv', index = False)"
   ]
  },
  {
   "cell_type": "code",
   "execution_count": 4,
   "metadata": {},
   "outputs": [
    {
     "data": {
      "text/html": [
       "<div>\n",
       "<style scoped>\n",
       "    .dataframe tbody tr th:only-of-type {\n",
       "        vertical-align: middle;\n",
       "    }\n",
       "\n",
       "    .dataframe tbody tr th {\n",
       "        vertical-align: top;\n",
       "    }\n",
       "\n",
       "    .dataframe thead th {\n",
       "        text-align: right;\n",
       "    }\n",
       "</style>\n",
       "<table border=\"1\" class=\"dataframe\">\n",
       "  <thead>\n",
       "    <tr style=\"text-align: right;\">\n",
       "      <th></th>\n",
       "      <th>Artist</th>\n",
       "      <th>Followers</th>\n",
       "      <th>NumAlbums</th>\n",
       "      <th>YearFirstAlbum</th>\n",
       "      <th>Gender</th>\n",
       "    </tr>\n",
       "  </thead>\n",
       "  <tbody>\n",
       "    <tr>\n",
       "      <th>0</th>\n",
       "      <td>Drake</td>\n",
       "      <td>41,420,478</td>\n",
       "      <td>11</td>\n",
       "      <td>2010</td>\n",
       "      <td>M</td>\n",
       "    </tr>\n",
       "    <tr>\n",
       "      <th>1</th>\n",
       "      <td>Rihanna</td>\n",
       "      <td>34,436,700</td>\n",
       "      <td>16</td>\n",
       "      <td>2005</td>\n",
       "      <td>F</td>\n",
       "    </tr>\n",
       "    <tr>\n",
       "      <th>2</th>\n",
       "      <td>Eminem</td>\n",
       "      <td>30,220,119</td>\n",
       "      <td>12</td>\n",
       "      <td>1999</td>\n",
       "      <td>M</td>\n",
       "    </tr>\n",
       "    <tr>\n",
       "      <th>3</th>\n",
       "      <td>Coldplay</td>\n",
       "      <td>22,458,057</td>\n",
       "      <td>10</td>\n",
       "      <td>2000</td>\n",
       "      <td>M</td>\n",
       "    </tr>\n",
       "    <tr>\n",
       "      <th>4</th>\n",
       "      <td>Play</td>\n",
       "      <td>22,458,057</td>\n",
       "      <td>3</td>\n",
       "      <td>2003</td>\n",
       "      <td>F</td>\n",
       "    </tr>\n",
       "    <tr>\n",
       "      <th>5</th>\n",
       "      <td>Queen</td>\n",
       "      <td>20,501,475</td>\n",
       "      <td>28</td>\n",
       "      <td>1973</td>\n",
       "      <td>M</td>\n",
       "    </tr>\n",
       "    <tr>\n",
       "      <th>6</th>\n",
       "      <td>Beyonce</td>\n",
       "      <td>20,494,887</td>\n",
       "      <td>12</td>\n",
       "      <td>2003</td>\n",
       "      <td>F</td>\n",
       "    </tr>\n",
       "    <tr>\n",
       "      <th>7</th>\n",
       "      <td>Adele</td>\n",
       "      <td>17,965,158</td>\n",
       "      <td>3</td>\n",
       "      <td>2008</td>\n",
       "      <td>F</td>\n",
       "    </tr>\n",
       "    <tr>\n",
       "      <th>8</th>\n",
       "      <td>Shakira</td>\n",
       "      <td>17,399,459</td>\n",
       "      <td>11</td>\n",
       "      <td>1995</td>\n",
       "      <td>F</td>\n",
       "    </tr>\n",
       "    <tr>\n",
       "      <th>9</th>\n",
       "      <td>Sia</td>\n",
       "      <td>14,117,938</td>\n",
       "      <td>12</td>\n",
       "      <td>2003</td>\n",
       "      <td>F</td>\n",
       "    </tr>\n",
       "    <tr>\n",
       "      <th>10</th>\n",
       "      <td>Metallica</td>\n",
       "      <td>12,040,848</td>\n",
       "      <td>17</td>\n",
       "      <td>1983</td>\n",
       "      <td>M</td>\n",
       "    </tr>\n",
       "    <tr>\n",
       "      <th>11</th>\n",
       "      <td>Nirvana</td>\n",
       "      <td>9,609,725</td>\n",
       "      <td>11</td>\n",
       "      <td>1991</td>\n",
       "      <td>M</td>\n",
       "    </tr>\n",
       "    <tr>\n",
       "      <th>12</th>\n",
       "      <td>Migos</td>\n",
       "      <td>9,473,441</td>\n",
       "      <td>13</td>\n",
       "      <td>2011</td>\n",
       "      <td>M</td>\n",
       "    </tr>\n",
       "    <tr>\n",
       "      <th>13</th>\n",
       "      <td>OneRepublic</td>\n",
       "      <td>8,660,053</td>\n",
       "      <td>7</td>\n",
       "      <td>2007</td>\n",
       "      <td>M</td>\n",
       "    </tr>\n",
       "    <tr>\n",
       "      <th>14</th>\n",
       "      <td>Aerosmith</td>\n",
       "      <td>7,359,118</td>\n",
       "      <td>19</td>\n",
       "      <td>1973</td>\n",
       "      <td>M</td>\n",
       "    </tr>\n",
       "    <tr>\n",
       "      <th>15</th>\n",
       "      <td>Pitbull</td>\n",
       "      <td>7,293,018</td>\n",
       "      <td>15</td>\n",
       "      <td>2004</td>\n",
       "      <td>M</td>\n",
       "    </tr>\n",
       "    <tr>\n",
       "      <th>16</th>\n",
       "      <td>Usher</td>\n",
       "      <td>7,186,671</td>\n",
       "      <td>8</td>\n",
       "      <td>1994</td>\n",
       "      <td>M</td>\n",
       "    </tr>\n",
       "    <tr>\n",
       "      <th>17</th>\n",
       "      <td>U2</td>\n",
       "      <td>5,714,273</td>\n",
       "      <td>17</td>\n",
       "      <td>1980</td>\n",
       "      <td>M</td>\n",
       "    </tr>\n",
       "    <tr>\n",
       "      <th>18</th>\n",
       "      <td>Blink</td>\n",
       "      <td>5,386,066</td>\n",
       "      <td>12</td>\n",
       "      <td>1994</td>\n",
       "      <td>M</td>\n",
       "    </tr>\n",
       "    <tr>\n",
       "      <th>19</th>\n",
       "      <td>Muse</td>\n",
       "      <td>5,302,069</td>\n",
       "      <td>10</td>\n",
       "      <td>1999</td>\n",
       "      <td>M</td>\n",
       "    </tr>\n",
       "    <tr>\n",
       "      <th>20</th>\n",
       "      <td>Wisin</td>\n",
       "      <td>4,955,084</td>\n",
       "      <td>4</td>\n",
       "      <td>2004</td>\n",
       "      <td>M</td>\n",
       "    </tr>\n",
       "  </tbody>\n",
       "</table>\n",
       "</div>"
      ],
      "text/plain": [
       "         Artist   Followers  NumAlbums  YearFirstAlbum Gender\n",
       "0         Drake  41,420,478         11            2010      M\n",
       "1       Rihanna  34,436,700         16            2005      F\n",
       "2        Eminem  30,220,119         12            1999      M\n",
       "3      Coldplay  22,458,057         10            2000      M\n",
       "4          Play  22,458,057          3            2003      F\n",
       "5         Queen  20,501,475         28            1973      M\n",
       "6       Beyonce  20,494,887         12            2003      F\n",
       "7         Adele  17,965,158          3            2008      F\n",
       "8       Shakira  17,399,459         11            1995      F\n",
       "9           Sia  14,117,938         12            2003      F\n",
       "10    Metallica  12,040,848         17            1983      M\n",
       "11      Nirvana   9,609,725         11            1991      M\n",
       "12        Migos   9,473,441         13            2011      M\n",
       "13  OneRepublic   8,660,053          7            2007      M\n",
       "14    Aerosmith   7,359,118         19            1973      M\n",
       "15      Pitbull   7,293,018         15            2004      M\n",
       "16        Usher   7,186,671          8            1994      M\n",
       "17           U2   5,714,273         17            1980      M\n",
       "18        Blink   5,386,066         12            1994      M\n",
       "19         Muse   5,302,069         10            1999      M\n",
       "20        Wisin   4,955,084          4            2004      M"
      ]
     },
     "execution_count": 4,
     "metadata": {},
     "output_type": "execute_result"
    }
   ],
   "source": [
    "# Load Final Top 20 Artists\n",
    "top_artist = \"Resources/clean_artist_final.csv\"\n",
    "top_artist = pd.read_csv(top_artist)\n",
    "top_artist"
   ]
  },
  {
   "cell_type": "code",
   "execution_count": 5,
   "metadata": {},
   "outputs": [
    {
     "data": {
      "text/plain": [
       "['drake',\n",
       " 'rihanna',\n",
       " 'eminem',\n",
       " 'coldplay',\n",
       " 'play',\n",
       " 'queen',\n",
       " 'beyonce',\n",
       " 'adele',\n",
       " 'shakira',\n",
       " 'sia',\n",
       " 'metallica',\n",
       " 'nirvana',\n",
       " 'migos',\n",
       " 'onerepublic',\n",
       " 'aerosmith',\n",
       " 'pitbull',\n",
       " 'usher',\n",
       " 'u2',\n",
       " 'blink',\n",
       " 'muse',\n",
       " 'wisin']"
      ]
     },
     "execution_count": 5,
     "metadata": {},
     "output_type": "execute_result"
    }
   ],
   "source": [
    "artist = top_artist[\"Artist\"]\n",
    "artist = [x.lower() for x in artist]\n",
    "artist"
   ]
  },
  {
   "cell_type": "code",
   "execution_count": 6,
   "metadata": {},
   "outputs": [],
   "source": [
    "url = \"https://itunes.apple.com/search?term=\"\n",
    "end_url = \"&limit=1\""
   ]
  },
  {
   "cell_type": "code",
   "execution_count": 7,
   "metadata": {},
   "outputs": [],
   "source": [
    "artist0 = artist[0]\n",
    "response0 = requests.get(url+str(artist0)+end_url).json()"
   ]
  },
  {
   "cell_type": "code",
   "execution_count": 8,
   "metadata": {},
   "outputs": [],
   "source": [
    "artist1 = artist[1]\n",
    "response1 = requests.get(url+str(artist1)+end_url).json()"
   ]
  },
  {
   "cell_type": "code",
   "execution_count": 9,
   "metadata": {},
   "outputs": [],
   "source": [
    "artist2 = artist[2]\n",
    "response2 = requests.get(url+str(artist2)+end_url).json()"
   ]
  },
  {
   "cell_type": "code",
   "execution_count": 10,
   "metadata": {},
   "outputs": [],
   "source": [
    "artist3 = artist[3]\n",
    "response3 = requests.get(url+str(artist3)+end_url).json()"
   ]
  },
  {
   "cell_type": "code",
   "execution_count": 11,
   "metadata": {},
   "outputs": [],
   "source": [
    "artist4 = artist[4]\n",
    "response4 = requests.get(url+str(artist4)+end_url).json()"
   ]
  },
  {
   "cell_type": "code",
   "execution_count": 12,
   "metadata": {},
   "outputs": [],
   "source": [
    "artist5 = artist[5]\n",
    "response5 = requests.get(url+str(artist5)+end_url).json()"
   ]
  },
  {
   "cell_type": "code",
   "execution_count": 13,
   "metadata": {},
   "outputs": [],
   "source": [
    "artist6 = artist[6]\n",
    "response6 = requests.get(url+str(artist6)+end_url).json()"
   ]
  },
  {
   "cell_type": "code",
   "execution_count": 14,
   "metadata": {},
   "outputs": [],
   "source": [
    "artist7 = artist[7]\n",
    "response7 = requests.get(url+str(artist7)+end_url).json()"
   ]
  },
  {
   "cell_type": "code",
   "execution_count": 15,
   "metadata": {},
   "outputs": [],
   "source": [
    "artist8 = artist[8]\n",
    "response8 = requests.get(url+str(artist8)+end_url).json()"
   ]
  },
  {
   "cell_type": "code",
   "execution_count": 16,
   "metadata": {},
   "outputs": [],
   "source": [
    "artist9 = artist[9]\n",
    "response9 = requests.get(url+str(artist9)+end_url).json()"
   ]
  },
  {
   "cell_type": "code",
   "execution_count": 17,
   "metadata": {},
   "outputs": [],
   "source": [
    "artist10 = artist[10]\n",
    "response10 = requests.get(url+str(artist10)+end_url).json()"
   ]
  },
  {
   "cell_type": "code",
   "execution_count": 18,
   "metadata": {},
   "outputs": [],
   "source": [
    "artist11 = artist[11]\n",
    "response11 = requests.get(url+str(artist11)+end_url).json()"
   ]
  },
  {
   "cell_type": "code",
   "execution_count": 19,
   "metadata": {},
   "outputs": [],
   "source": [
    "artist12 = artist[12]\n",
    "response12 = requests.get(url+str(artist12)+end_url).json()"
   ]
  },
  {
   "cell_type": "code",
   "execution_count": 20,
   "metadata": {},
   "outputs": [],
   "source": [
    "artist13 = artist[13]\n",
    "response13 = requests.get(url+str(artist13)+end_url).json()"
   ]
  },
  {
   "cell_type": "code",
   "execution_count": 21,
   "metadata": {},
   "outputs": [],
   "source": [
    "artist14 = artist[14]\n",
    "response14 = requests.get(url+str(artist14)+end_url).json()"
   ]
  },
  {
   "cell_type": "code",
   "execution_count": 22,
   "metadata": {},
   "outputs": [],
   "source": [
    "artist15 = artist[15]\n",
    "response15 = requests.get(url+str(artist15)+end_url).json()"
   ]
  },
  {
   "cell_type": "code",
   "execution_count": 23,
   "metadata": {},
   "outputs": [],
   "source": [
    "artist16 = artist[16]\n",
    "response16 = requests.get(url+str(artist16)+end_url).json()"
   ]
  },
  {
   "cell_type": "code",
   "execution_count": 24,
   "metadata": {},
   "outputs": [],
   "source": [
    "artist17 = artist[17]\n",
    "response17 = requests.get(url+str(artist17)+end_url).json()"
   ]
  },
  {
   "cell_type": "code",
   "execution_count": 25,
   "metadata": {},
   "outputs": [],
   "source": [
    "artist18 = artist[18]\n",
    "response18 = requests.get(url+str(artist18)+end_url).json()"
   ]
  },
  {
   "cell_type": "code",
   "execution_count": 26,
   "metadata": {},
   "outputs": [],
   "source": [
    "artist19 = artist[19]\n",
    "response19 = requests.get(url+str(artist19)+end_url).json()"
   ]
  },
  {
   "cell_type": "code",
   "execution_count": 27,
   "metadata": {},
   "outputs": [],
   "source": [
    "artist20 = artist[20]\n",
    "response20 = requests.get(url+str(artist20)+end_url).json()"
   ]
  },
  {
   "cell_type": "code",
   "execution_count": 28,
   "metadata": {},
   "outputs": [],
   "source": [
    "artist_url = []"
   ]
  },
  {
   "cell_type": "code",
   "execution_count": 29,
   "metadata": {},
   "outputs": [],
   "source": [
    "for x in response0['results']:  \n",
    "    artist_url.append(x['artistViewUrl'])"
   ]
  },
  {
   "cell_type": "code",
   "execution_count": 30,
   "metadata": {},
   "outputs": [],
   "source": [
    "for x in response1['results']:  \n",
    "    artist_url.append(x['artistViewUrl'])"
   ]
  },
  {
   "cell_type": "code",
   "execution_count": 31,
   "metadata": {},
   "outputs": [],
   "source": [
    "for x in response2['results']:  \n",
    "    artist_url.append(x['artistViewUrl'])"
   ]
  },
  {
   "cell_type": "code",
   "execution_count": 32,
   "metadata": {},
   "outputs": [],
   "source": [
    "for x in response3['results']:  \n",
    "    artist_url.append(x['artistViewUrl'])"
   ]
  },
  {
   "cell_type": "code",
   "execution_count": 33,
   "metadata": {},
   "outputs": [],
   "source": [
    "for x in response4['results']:  \n",
    "    artist_url.append(x['artistViewUrl'])"
   ]
  },
  {
   "cell_type": "code",
   "execution_count": 34,
   "metadata": {},
   "outputs": [],
   "source": [
    "for x in response5['results']:  \n",
    "    artist_url.append(x['artistViewUrl'])"
   ]
  },
  {
   "cell_type": "code",
   "execution_count": 35,
   "metadata": {},
   "outputs": [],
   "source": [
    "for x in response6['results']:  \n",
    "    artist_url.append(x['artistViewUrl'])"
   ]
  },
  {
   "cell_type": "code",
   "execution_count": 36,
   "metadata": {},
   "outputs": [],
   "source": [
    "for x in response7['results']:  \n",
    "    artist_url.append(x['artistViewUrl'])"
   ]
  },
  {
   "cell_type": "code",
   "execution_count": 37,
   "metadata": {},
   "outputs": [],
   "source": [
    "for x in response8['results']:  \n",
    "    artist_url.append(x['artistViewUrl'])"
   ]
  },
  {
   "cell_type": "code",
   "execution_count": 38,
   "metadata": {},
   "outputs": [],
   "source": [
    "for x in response9['results']:  \n",
    "    artist_url.append(x['artistViewUrl'])"
   ]
  },
  {
   "cell_type": "code",
   "execution_count": 39,
   "metadata": {},
   "outputs": [],
   "source": [
    "for x in response10['results']:  \n",
    "    artist_url.append(x['artistViewUrl'])"
   ]
  },
  {
   "cell_type": "code",
   "execution_count": 40,
   "metadata": {},
   "outputs": [],
   "source": [
    "for x in response11['results']:  \n",
    "    artist_url.append(x['artistViewUrl'])"
   ]
  },
  {
   "cell_type": "code",
   "execution_count": 41,
   "metadata": {},
   "outputs": [],
   "source": [
    "for x in response12['results']:  \n",
    "    artist_url.append(x['artistViewUrl'])"
   ]
  },
  {
   "cell_type": "code",
   "execution_count": 42,
   "metadata": {},
   "outputs": [],
   "source": [
    "for x in response13['results']:  \n",
    "    artist_url.append(x['artistViewUrl'])"
   ]
  },
  {
   "cell_type": "code",
   "execution_count": 43,
   "metadata": {},
   "outputs": [],
   "source": [
    "for x in response14['results']:  \n",
    "    artist_url.append(x['artistViewUrl'])"
   ]
  },
  {
   "cell_type": "code",
   "execution_count": 44,
   "metadata": {},
   "outputs": [],
   "source": [
    "for x in response15['results']:  \n",
    "    artist_url.append(x['artistViewUrl'])"
   ]
  },
  {
   "cell_type": "code",
   "execution_count": 45,
   "metadata": {},
   "outputs": [],
   "source": [
    "for x in response16['results']:  \n",
    "    artist_url.append(x['artistViewUrl'])"
   ]
  },
  {
   "cell_type": "code",
   "execution_count": 46,
   "metadata": {},
   "outputs": [],
   "source": [
    "for x in response17['results']:  \n",
    "    artist_url.append(x['artistViewUrl'])"
   ]
  },
  {
   "cell_type": "code",
   "execution_count": 47,
   "metadata": {},
   "outputs": [],
   "source": [
    "for x in response18['results']:  \n",
    "    artist_url.append(x['artistViewUrl'])"
   ]
  },
  {
   "cell_type": "code",
   "execution_count": 48,
   "metadata": {},
   "outputs": [],
   "source": [
    "for x in response19['results']:  \n",
    "    artist_url.append(x['artistViewUrl'])"
   ]
  },
  {
   "cell_type": "code",
   "execution_count": 49,
   "metadata": {},
   "outputs": [],
   "source": [
    "for x in response20['results']:  \n",
    "    artist_url.append(x['artistViewUrl'])"
   ]
  },
  {
   "cell_type": "code",
   "execution_count": 50,
   "metadata": {},
   "outputs": [
    {
     "data": {
      "text/html": [
       "<div>\n",
       "<style scoped>\n",
       "    .dataframe tbody tr th:only-of-type {\n",
       "        vertical-align: middle;\n",
       "    }\n",
       "\n",
       "    .dataframe tbody tr th {\n",
       "        vertical-align: top;\n",
       "    }\n",
       "\n",
       "    .dataframe thead th {\n",
       "        text-align: right;\n",
       "    }\n",
       "</style>\n",
       "<table border=\"1\" class=\"dataframe\">\n",
       "  <thead>\n",
       "    <tr style=\"text-align: right;\">\n",
       "      <th></th>\n",
       "      <th>Artist</th>\n",
       "      <th>Followers</th>\n",
       "      <th>NumAlbums</th>\n",
       "      <th>YearFirstAlbum</th>\n",
       "      <th>Gender</th>\n",
       "      <th>URL</th>\n",
       "    </tr>\n",
       "  </thead>\n",
       "  <tbody>\n",
       "    <tr>\n",
       "      <th>0</th>\n",
       "      <td>Drake</td>\n",
       "      <td>41,420,478</td>\n",
       "      <td>11</td>\n",
       "      <td>2010</td>\n",
       "      <td>M</td>\n",
       "      <td>https://music.apple.com/us/artist/drake/271256...</td>\n",
       "    </tr>\n",
       "    <tr>\n",
       "      <th>1</th>\n",
       "      <td>Rihanna</td>\n",
       "      <td>34,436,700</td>\n",
       "      <td>16</td>\n",
       "      <td>2005</td>\n",
       "      <td>F</td>\n",
       "      <td>https://music.apple.com/us/artist/rihanna/6334...</td>\n",
       "    </tr>\n",
       "    <tr>\n",
       "      <th>2</th>\n",
       "      <td>Eminem</td>\n",
       "      <td>30,220,119</td>\n",
       "      <td>12</td>\n",
       "      <td>1999</td>\n",
       "      <td>M</td>\n",
       "      <td>https://music.apple.com/us/artist/eminem/11105...</td>\n",
       "    </tr>\n",
       "    <tr>\n",
       "      <th>3</th>\n",
       "      <td>Coldplay</td>\n",
       "      <td>22,458,057</td>\n",
       "      <td>10</td>\n",
       "      <td>2000</td>\n",
       "      <td>M</td>\n",
       "      <td>https://music.apple.com/us/artist/the-chainsmo...</td>\n",
       "    </tr>\n",
       "    <tr>\n",
       "      <th>4</th>\n",
       "      <td>Play</td>\n",
       "      <td>22,458,057</td>\n",
       "      <td>3</td>\n",
       "      <td>2003</td>\n",
       "      <td>F</td>\n",
       "      <td>https://music.apple.com/us/artist/david-banner...</td>\n",
       "    </tr>\n",
       "    <tr>\n",
       "      <th>5</th>\n",
       "      <td>Queen</td>\n",
       "      <td>20,501,475</td>\n",
       "      <td>28</td>\n",
       "      <td>1973</td>\n",
       "      <td>M</td>\n",
       "      <td>https://music.apple.com/us/artist/queen/329628...</td>\n",
       "    </tr>\n",
       "    <tr>\n",
       "      <th>6</th>\n",
       "      <td>Beyonce</td>\n",
       "      <td>20,494,887</td>\n",
       "      <td>12</td>\n",
       "      <td>2003</td>\n",
       "      <td>F</td>\n",
       "      <td>https://music.apple.com/us/artist/beyonc%C3%A9...</td>\n",
       "    </tr>\n",
       "    <tr>\n",
       "      <th>7</th>\n",
       "      <td>Adele</td>\n",
       "      <td>17,965,158</td>\n",
       "      <td>3</td>\n",
       "      <td>2008</td>\n",
       "      <td>F</td>\n",
       "      <td>https://music.apple.com/us/artist/adele/262836...</td>\n",
       "    </tr>\n",
       "    <tr>\n",
       "      <th>8</th>\n",
       "      <td>Shakira</td>\n",
       "      <td>17,399,459</td>\n",
       "      <td>11</td>\n",
       "      <td>1995</td>\n",
       "      <td>F</td>\n",
       "      <td>https://music.apple.com/us/artist/shakira/8893...</td>\n",
       "    </tr>\n",
       "    <tr>\n",
       "      <th>9</th>\n",
       "      <td>Sia</td>\n",
       "      <td>14,117,938</td>\n",
       "      <td>12</td>\n",
       "      <td>2003</td>\n",
       "      <td>F</td>\n",
       "      <td>https://music.apple.com/us/artist/sia/13493906...</td>\n",
       "    </tr>\n",
       "    <tr>\n",
       "      <th>10</th>\n",
       "      <td>Metallica</td>\n",
       "      <td>12,040,848</td>\n",
       "      <td>17</td>\n",
       "      <td>1983</td>\n",
       "      <td>M</td>\n",
       "      <td>https://music.apple.com/us/artist/metallica/39...</td>\n",
       "    </tr>\n",
       "    <tr>\n",
       "      <th>11</th>\n",
       "      <td>Nirvana</td>\n",
       "      <td>9,609,725</td>\n",
       "      <td>11</td>\n",
       "      <td>1991</td>\n",
       "      <td>M</td>\n",
       "      <td>https://music.apple.com/us/artist/nirvana/1120...</td>\n",
       "    </tr>\n",
       "    <tr>\n",
       "      <th>12</th>\n",
       "      <td>Migos</td>\n",
       "      <td>9,473,441</td>\n",
       "      <td>13</td>\n",
       "      <td>2011</td>\n",
       "      <td>M</td>\n",
       "      <td>https://music.apple.com/us/artist/migos/569925...</td>\n",
       "    </tr>\n",
       "    <tr>\n",
       "      <th>13</th>\n",
       "      <td>OneRepublic</td>\n",
       "      <td>8,660,053</td>\n",
       "      <td>7</td>\n",
       "      <td>2007</td>\n",
       "      <td>M</td>\n",
       "      <td>https://music.apple.com/us/artist/onerepublic/...</td>\n",
       "    </tr>\n",
       "    <tr>\n",
       "      <th>14</th>\n",
       "      <td>Aerosmith</td>\n",
       "      <td>7,359,118</td>\n",
       "      <td>19</td>\n",
       "      <td>1973</td>\n",
       "      <td>M</td>\n",
       "      <td>https://music.apple.com/us/artist/aerosmith/11...</td>\n",
       "    </tr>\n",
       "    <tr>\n",
       "      <th>15</th>\n",
       "      <td>Pitbull</td>\n",
       "      <td>7,293,018</td>\n",
       "      <td>15</td>\n",
       "      <td>2004</td>\n",
       "      <td>M</td>\n",
       "      <td>https://music.apple.com/us/artist/pitbull/2704...</td>\n",
       "    </tr>\n",
       "    <tr>\n",
       "      <th>16</th>\n",
       "      <td>Usher</td>\n",
       "      <td>7,186,671</td>\n",
       "      <td>8</td>\n",
       "      <td>1994</td>\n",
       "      <td>M</td>\n",
       "      <td>https://music.apple.com/us/artist/usher/15885?...</td>\n",
       "    </tr>\n",
       "    <tr>\n",
       "      <th>17</th>\n",
       "      <td>U2</td>\n",
       "      <td>5,714,273</td>\n",
       "      <td>17</td>\n",
       "      <td>1980</td>\n",
       "      <td>M</td>\n",
       "      <td>https://music.apple.com/us/artist/u2/78500?uo=4</td>\n",
       "    </tr>\n",
       "    <tr>\n",
       "      <th>18</th>\n",
       "      <td>Blink</td>\n",
       "      <td>5,386,066</td>\n",
       "      <td>12</td>\n",
       "      <td>1994</td>\n",
       "      <td>M</td>\n",
       "      <td>https://music.apple.com/us/artist/blink-182/11...</td>\n",
       "    </tr>\n",
       "    <tr>\n",
       "      <th>19</th>\n",
       "      <td>Muse</td>\n",
       "      <td>5,302,069</td>\n",
       "      <td>10</td>\n",
       "      <td>1999</td>\n",
       "      <td>M</td>\n",
       "      <td>https://music.apple.com/us/artist/muse/1093360...</td>\n",
       "    </tr>\n",
       "    <tr>\n",
       "      <th>20</th>\n",
       "      <td>Wisin</td>\n",
       "      <td>4,955,084</td>\n",
       "      <td>4</td>\n",
       "      <td>2004</td>\n",
       "      <td>M</td>\n",
       "      <td>https://music.apple.com/us/artist/wisin/492523...</td>\n",
       "    </tr>\n",
       "  </tbody>\n",
       "</table>\n",
       "</div>"
      ],
      "text/plain": [
       "         Artist   Followers  NumAlbums  YearFirstAlbum Gender  \\\n",
       "0         Drake  41,420,478         11            2010      M   \n",
       "1       Rihanna  34,436,700         16            2005      F   \n",
       "2        Eminem  30,220,119         12            1999      M   \n",
       "3      Coldplay  22,458,057         10            2000      M   \n",
       "4          Play  22,458,057          3            2003      F   \n",
       "5         Queen  20,501,475         28            1973      M   \n",
       "6       Beyonce  20,494,887         12            2003      F   \n",
       "7         Adele  17,965,158          3            2008      F   \n",
       "8       Shakira  17,399,459         11            1995      F   \n",
       "9           Sia  14,117,938         12            2003      F   \n",
       "10    Metallica  12,040,848         17            1983      M   \n",
       "11      Nirvana   9,609,725         11            1991      M   \n",
       "12        Migos   9,473,441         13            2011      M   \n",
       "13  OneRepublic   8,660,053          7            2007      M   \n",
       "14    Aerosmith   7,359,118         19            1973      M   \n",
       "15      Pitbull   7,293,018         15            2004      M   \n",
       "16        Usher   7,186,671          8            1994      M   \n",
       "17           U2   5,714,273         17            1980      M   \n",
       "18        Blink   5,386,066         12            1994      M   \n",
       "19         Muse   5,302,069         10            1999      M   \n",
       "20        Wisin   4,955,084          4            2004      M   \n",
       "\n",
       "                                                  URL  \n",
       "0   https://music.apple.com/us/artist/drake/271256...  \n",
       "1   https://music.apple.com/us/artist/rihanna/6334...  \n",
       "2   https://music.apple.com/us/artist/eminem/11105...  \n",
       "3   https://music.apple.com/us/artist/the-chainsmo...  \n",
       "4   https://music.apple.com/us/artist/david-banner...  \n",
       "5   https://music.apple.com/us/artist/queen/329628...  \n",
       "6   https://music.apple.com/us/artist/beyonc%C3%A9...  \n",
       "7   https://music.apple.com/us/artist/adele/262836...  \n",
       "8   https://music.apple.com/us/artist/shakira/8893...  \n",
       "9   https://music.apple.com/us/artist/sia/13493906...  \n",
       "10  https://music.apple.com/us/artist/metallica/39...  \n",
       "11  https://music.apple.com/us/artist/nirvana/1120...  \n",
       "12  https://music.apple.com/us/artist/migos/569925...  \n",
       "13  https://music.apple.com/us/artist/onerepublic/...  \n",
       "14  https://music.apple.com/us/artist/aerosmith/11...  \n",
       "15  https://music.apple.com/us/artist/pitbull/2704...  \n",
       "16  https://music.apple.com/us/artist/usher/15885?...  \n",
       "17    https://music.apple.com/us/artist/u2/78500?uo=4  \n",
       "18  https://music.apple.com/us/artist/blink-182/11...  \n",
       "19  https://music.apple.com/us/artist/muse/1093360...  \n",
       "20  https://music.apple.com/us/artist/wisin/492523...  "
      ]
     },
     "execution_count": 50,
     "metadata": {},
     "output_type": "execute_result"
    }
   ],
   "source": [
    "top_artist[\"URL\"] = artist_url\n",
    "top_artist"
   ]
  },
  {
   "cell_type": "code",
   "execution_count": 52,
   "metadata": {},
   "outputs": [
    {
     "data": {
      "text/plain": [
       "<pymongo.results.InsertManyResult at 0x122c442d0>"
      ]
     },
     "execution_count": 52,
     "metadata": {},
     "output_type": "execute_result"
    }
   ],
   "source": [
    "# Connect to MongoDB\n",
    "client =  MongoClient(\"mongodb://localhost:27017/\")\n",
    "db = client['Billboard_Top_Artists']\n",
    "collection = db['One_Name_Artists']\n",
    "top_artist.reset_index(inplace=True)\n",
    "data_dict = top_artist.to_dict(\"records\")\n",
    "\n",
    "# Insert collection\n",
    "collection.insert_many(data_dict)"
   ]
  }
 ],
 "metadata": {
  "kernelspec": {
   "display_name": "Python 3.7.6 64-bit ('PythonData': conda)",
   "language": "python",
   "name": "python37664bitpythondataconda2b8880efb6d34b3eb0c55c8cee5b9b98"
  },
  "language_info": {
   "codemirror_mode": {
    "name": "ipython",
    "version": 3
   },
   "file_extension": ".py",
   "mimetype": "text/x-python",
   "name": "python",
   "nbconvert_exporter": "python",
   "pygments_lexer": "ipython3",
   "version": "3.7.6"
  }
 },
 "nbformat": 4,
 "nbformat_minor": 4
}
